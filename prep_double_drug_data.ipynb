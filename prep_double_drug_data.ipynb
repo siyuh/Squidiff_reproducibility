{
 "cells": [
  {
   "cell_type": "code",
   "execution_count": 20,
   "id": "118553fe-7e71-479d-b091-ba9598426bbc",
   "metadata": {},
   "outputs": [],
   "source": [
    "import scanpy as sc\n",
    "adata = sc.read_h5ad('datasets/4i/8h.h5ad')\n",
    "adata.obs['Group']=adata.obs['drug']"
   ]
  },
  {
   "cell_type": "code",
   "execution_count": 21,
   "id": "47ea5959-4377-4161-861b-6b749554d398",
   "metadata": {},
   "outputs": [],
   "source": [
    "#adata = adata[:,[not i.startswith('morphology') for i in adata.var_names]]"
   ]
  },
  {
   "cell_type": "code",
   "execution_count": 22,
   "id": "5953f187-547f-4378-be9b-37188cd3145a",
   "metadata": {},
   "outputs": [
    {
     "data": {
      "text/plain": [
       "oj7jgazo         control\n",
       "y72mt3ri         control\n",
       "l3bzrner         control\n",
       "cw7zy290         control\n",
       "3e9elqnc         control\n",
       "                ...     \n",
       "vox7n0w5    panobinostat\n",
       "820k41sl    panobinostat\n",
       "patbmwse    panobinostat\n",
       "ybes3u22    panobinostat\n",
       "yc4l0z2y    panobinostat\n",
       "Name: Group, Length: 23630, dtype: category\n",
       "Categories (6, object): ['control', 'dabrafenib', 'erlotinib', 'midostaurin', 'panobinostat', 'trametinib']"
      ]
     },
     "execution_count": 22,
     "metadata": {},
     "output_type": "execute_result"
    }
   ],
   "source": [
    "adata[adata.obs['drug'].isin(\n",
    "    ['trametinib', \n",
    "     'midostaurin', \n",
    "     'erlotinib',\n",
    "     'dabrafenib',\n",
    "     'panobinostat',\n",
    "     'control'\n",
    "    ]\n",
    ")].obs['Group']"
   ]
  },
  {
   "cell_type": "code",
   "execution_count": 23,
   "id": "31d25b60-8b55-498e-bd3f-08c8e75f5506",
   "metadata": {
    "tags": []
   },
   "outputs": [],
   "source": [
    "adata1 = adata[adata.obs['drug'].isin(\n",
    "    ['trametinib', \n",
    "     'midostaurin', \n",
    "     'erlotinib',\n",
    "     'dabrafenib',\n",
    "     'panobinostat',\n",
    "     'control'\n",
    "    ]\n",
    ")].copy()\n",
    "\n",
    "del adata1.obs\n",
    "del adata1.var\n",
    "del adata1.uns\n",
    "adata1.obs['Group'] = adata[adata.obs['drug'].isin(\n",
    "    ['trametinib', \n",
    "     'midostaurin', \n",
    "     'erlotinib',\n",
    "     'dabrafenib',\n",
    "     'panobinostat',\n",
    "     'control'\n",
    "    ]\n",
    ")].obs['Group']\n",
    "adata1.write('datasets/single_drug.h5ad')\n",
    "\n",
    "adata2 = adata[adata.obs['drug'].isin(\n",
    "    ['trametinib_panobinostat', \n",
    "     'trametinib_midostaurin', \n",
    "     'trametinib_erlotinib',\n",
    "     'trametinib_dabrafenib',\n",
    "    ]\n",
    ")].copy()\n",
    "del adata2.obs\n",
    "del adata2.var\n",
    "del adata2.uns\n",
    "adata2.obs['Group'] = adata[adata.obs['drug'].isin(\n",
    "    ['trametinib_panobinostat', \n",
    "     'trametinib_midostaurin', \n",
    "     'trametinib_erlotinib',\n",
    "     'trametinib_dabrafenib',\n",
    "    ]\n",
    ")].obs['Group']\n",
    "adata2.write('datasets/comb_drug.h5ad')"
   ]
  },
  {
   "cell_type": "code",
   "execution_count": 24,
   "id": "cb864bcd-cc75-420d-8bd4-bef968c1b054",
   "metadata": {},
   "outputs": [
    {
     "data": {
      "text/plain": [
       "AnnData object with n_obs × n_vars = 23630 × 78\n",
       "    obs: 'Group'"
      ]
     },
     "execution_count": 24,
     "metadata": {},
     "output_type": "execute_result"
    }
   ],
   "source": [
    "sc.read_h5ad('datasets/single_drug.h5ad')"
   ]
  },
  {
   "cell_type": "code",
   "execution_count": null,
   "id": "fb39fbd4-fbd6-4a98-95f8-f75d6f18c228",
   "metadata": {},
   "outputs": [],
   "source": []
  },
  {
   "cell_type": "code",
   "execution_count": null,
   "id": "13fc6393-9b7c-42cb-8faa-fde3c60b5c20",
   "metadata": {},
   "outputs": [],
   "source": []
  }
 ],
 "metadata": {
  "kernelspec": {
   "display_name": "scvi_v1",
   "language": "python",
   "name": "myenv"
  },
  "language_info": {
   "codemirror_mode": {
    "name": "ipython",
    "version": 3
   },
   "file_extension": ".py",
   "mimetype": "text/x-python",
   "name": "python",
   "nbconvert_exporter": "python",
   "pygments_lexer": "ipython3",
   "version": "3.9.18"
  }
 },
 "nbformat": 4,
 "nbformat_minor": 5
}
