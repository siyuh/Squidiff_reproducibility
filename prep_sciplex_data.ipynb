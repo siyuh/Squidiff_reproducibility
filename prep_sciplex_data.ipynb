{
 "cells": [
  {
   "cell_type": "code",
   "execution_count": 1,
   "id": "1fe54013-25ce-4ec4-b95b-505b8564ddbb",
   "metadata": {},
   "outputs": [],
   "source": [
    "import sys\n",
    "import os\n",
    "\n",
    "import pandas as pd\n",
    "import scanpy as sc\n",
    "import numpy as np\n",
    "import warnings\n",
    "\n",
    "import torch\n",
    "import torch.nn.functional as F\n",
    "import torch.nn as nn\n",
    "\n",
    "from torch.utils.data import DataLoader, TensorDataset\n",
    "from torch.nn import DataParallel\n",
    "import matplotlib.pyplot as plt\n",
    "from matplotlib.pyplot import rc_context\n",
    "import anndata\n",
    "import seaborn as sns\n",
    "import matplotlib.font_manager\n",
    "from matplotlib import rcParams\n",
    "\n",
    "font_list = []\n",
    "fpaths = matplotlib.font_manager.findSystemFonts()\n",
    "for i in fpaths:\n",
    "    try:\n",
    "        f = matplotlib.font_manager.get_font(i)\n",
    "        font_list.append(f.family_name)\n",
    "    except RuntimeError:\n",
    "        pass\n",
    "\n",
    "font_list = set(font_list)\n",
    "plot_font = 'Helvetica' if 'Helvetica' in font_list else 'FreeSans'\n",
    "rcParams['font.family'] = plot_font\n",
    "rcParams.update({'font.size': 10})\n",
    "rcParams.update({'figure.dpi': 300})\n",
    "rcParams.update({'figure.figsize': (3,3)})\n",
    "rcParams.update({'savefig.dpi': 500})\n",
    "warnings.filterwarnings('ignore')\n",
    "\n",
    "%load_ext autoreload\n",
    "%autoreload 2\n",
    "import os\n",
    "os.environ[\"CUDA_LAUNCH_BLOCKING\"] = \"1\""
   ]
  },
  {
   "cell_type": "code",
   "execution_count": 2,
   "id": "86c10859-eee5-4646-883a-66587292c603",
   "metadata": {},
   "outputs": [],
   "source": [
    "adata = sc.read_h5ad('../Squidiff_project/PRnet/dataset/Sci_Plex.h5ad')"
   ]
  },
  {
   "cell_type": "code",
   "execution_count": 3,
   "id": "398a2384-d34a-4d87-84a3-b1ec976ff889",
   "metadata": {},
   "outputs": [],
   "source": [
    "sc.pp.normalize_total(adata)\n",
    "sc.pp.log1p(adata)\n",
    "sc.pp.highly_variable_genes(adata, n_top_genes=200)\n",
    "# Filter the dataset to keep only these genes\n",
    "adata = adata[:, adata.var.highly_variable]\n",
    "adata_control = adata[np.array(adata.obs['paired_control_index'].values)].copy()"
   ]
  },
  {
   "cell_type": "code",
   "execution_count": 4,
   "id": "53c8ebf9-864e-4299-a8f6-1fc0bd15cc88",
   "metadata": {},
   "outputs": [],
   "source": [
    "adata_raw = sc.read_h5ad('../Squidiff_project/PRnet/dataset/Sci_Plex.h5ad')\n"
   ]
  },
  {
   "cell_type": "code",
   "execution_count": 5,
   "id": "c702164a-9f89-4b7a-b59d-6dd076331a90",
   "metadata": {},
   "outputs": [],
   "source": [
    "ind_all =[]\n",
    "for i in adata.var_names:\n",
    "    ind_all.append(np.where(adata_raw.var_names==i)[0][0])"
   ]
  },
  {
   "cell_type": "code",
   "execution_count": 6,
   "id": "f4e73962-0a74-4805-8a9e-44b3462472d7",
   "metadata": {},
   "outputs": [],
   "source": [
    "np.save('index_all.npy',ind_all)"
   ]
  },
  {
   "cell_type": "code",
   "execution_count": 10,
   "id": "8bfa4665-8869-443a-b7bd-643113871c1c",
   "metadata": {},
   "outputs": [
    {
     "data": {
      "text/plain": [
       "0         A549\n",
       "1         MCF7\n",
       "2         MCF7\n",
       "3         K562\n",
       "4         K562\n",
       "          ... \n",
       "290883    A549\n",
       "290884    A549\n",
       "290885    MCF7\n",
       "290886    MCF7\n",
       "290887    MCF7\n",
       "Name: cell_type, Length: 290888, dtype: category\n",
       "Categories (3, object): ['A549', 'K562', 'MCF7']"
      ]
     },
     "execution_count": 10,
     "metadata": {},
     "output_type": "execute_result"
    }
   ],
   "source": [
    "adata.obs['cell_type']"
   ]
  },
  {
   "cell_type": "code",
   "execution_count": 12,
   "id": "52cb3098-76a1-40ea-95f5-f8d387a188cb",
   "metadata": {},
   "outputs": [],
   "source": [
    "adata.obs['cell_split_0'] = 'train'\n",
    "adata.obs[adata.obs['cell_type']=='A549']['cell_split_0'] = 'test'\n",
    "\n",
    "adata.obs['cell_split_1'] = 'train'\n",
    "adata.obs[adata.obs['cell_type']=='K562']['cell_split_1'] = 'test'\n",
    "\n",
    "adata.obs['cell_split_2'] = 'train'\n",
    "adata.obs[adata.obs['cell_type']=='MCF7']['cell_split_2'] = 'test'"
   ]
  },
  {
   "cell_type": "code",
   "execution_count": 13,
   "id": "c28677ae-0928-4443-8072-22754c3616ad",
   "metadata": {},
   "outputs": [],
   "source": [
    "adata.write('../Squidiff_project/PRnet/dataset/Sci_Plex_new.h5ad')"
   ]
  },
  {
   "cell_type": "code",
   "execution_count": 14,
   "id": "e0b0bf46-a168-464e-b905-053f637fed9c",
   "metadata": {},
   "outputs": [],
   "source": [
    "adata_cut = adata[adata.obs['cell_split_0']=='train'].copy()\n",
    "sci_plex_train= anndata.AnnData(adata_cut.X)\n",
    "sci_plex_train.obs_names=adata_cut.obs_names\n",
    "sci_plex_train.var_names=adata_cut.var_names\n",
    "sci_plex_train.obs['Group']=adata_cut.obs['cov_drug_dose_name']\n",
    "sci_plex_train.obs['dose']=adata_cut.obs['dose']\n",
    "sci_plex_train.obs['SMILES']=adata_cut.obs['SMILES']\n",
    "\n",
    "sci_plex_train.write('datasets/sci_plex_train_cell_split_0.h5ad')\n",
    "sci_plex_train_control = adata_control[adata.obs['cell_split_0']=='train'].copy()\n",
    "sci_plex_train_control.write('datasets/sci_plex_train_cell_split_0_control.h5ad')"
   ]
  },
  {
   "cell_type": "code",
   "execution_count": 15,
   "id": "9aa16e7e-23bd-4ffb-bf76-1361669e7c67",
   "metadata": {},
   "outputs": [],
   "source": [
    "adata_cut = adata[adata.obs['cell_split_1']=='train'].copy()\n",
    "sci_plex_train= anndata.AnnData(adata_cut.X)\n",
    "sci_plex_train.obs_names=adata_cut.obs_names\n",
    "sci_plex_train.var_names=adata_cut.var_names\n",
    "sci_plex_train.obs['Group']=adata_cut.obs['cov_drug_dose_name']\n",
    "sci_plex_train.obs['dose']=adata_cut.obs['dose']\n",
    "sci_plex_train.obs['SMILES']=adata_cut.obs['SMILES']\n",
    "\n",
    "sci_plex_train.write('datasets/sci_plex_train_cell_split_1.h5ad')\n",
    "sci_plex_train_control = adata_control[adata.obs['cell_split_1']=='train'].copy()\n",
    "sci_plex_train_control.write('datasets/sci_plex_train_cell_split_1_control.h5ad')"
   ]
  },
  {
   "cell_type": "code",
   "execution_count": 16,
   "id": "2a23f02e-dbc5-4490-9a27-95be8b06f81d",
   "metadata": {},
   "outputs": [],
   "source": [
    "adata_cut = adata[adata.obs['cell_split_2']=='train'].copy()\n",
    "sci_plex_train= anndata.AnnData(adata_cut.X)\n",
    "sci_plex_train.obs_names=adata_cut.obs_names\n",
    "sci_plex_train.var_names=adata_cut.var_names\n",
    "sci_plex_train.obs['Group']=adata_cut.obs['cov_drug_dose_name']\n",
    "sci_plex_train.obs['dose']=adata_cut.obs['dose']\n",
    "sci_plex_train.obs['SMILES']=adata_cut.obs['SMILES']\n",
    "\n",
    "sci_plex_train.write('datasets/sci_plex_train_cell_split_2.h5ad')\n",
    "sci_plex_train_control = adata_control[adata.obs['cell_split_2']=='train'].copy()\n",
    "sci_plex_train_control.write('datasets/sci_plex_train_cell_split_2_control.h5ad')"
   ]
  },
  {
   "cell_type": "code",
   "execution_count": 16,
   "id": "548fad19-a19f-42a1-b777-2fa6ef28b7d8",
   "metadata": {},
   "outputs": [],
   "source": [
    "adata_cut = adata[adata.obs['random_split_0']=='train'].copy()\n",
    "sci_plex_train= anndata.AnnData(adata_cut.X)\n",
    "sci_plex_train.obs_names=adata_cut.obs_names\n",
    "sci_plex_train.var_names=adata_cut.var_names\n",
    "sci_plex_train.obs['Group']=adata_cut.obs['cov_drug_dose_name']\n",
    "sci_plex_train.obs['dose']=adata_cut.obs['dose']\n",
    "sci_plex_train.obs['SMILES']=adata_cut.obs['SMILES']\n",
    "\n",
    "sci_plex_train.write('datasets/sci_plex_train_random_split_0.h5ad')\n",
    "sci_plex_train_control = adata_control[adata.obs['random_split_0']=='train'].copy()\n",
    "sci_plex_train_control.write('datasets/sci_plex_train_random_split_0_control.h5ad')"
   ]
  },
  {
   "cell_type": "code",
   "execution_count": 17,
   "id": "7d05f4ce-ed4b-41fb-b39d-65c4f582fb92",
   "metadata": {},
   "outputs": [],
   "source": [
    "adata_cut = adata[adata.obs['random_split_1']=='train'].copy()\n",
    "sci_plex_train= anndata.AnnData(adata_cut.X)\n",
    "sci_plex_train.obs_names=adata_cut.obs_names\n",
    "sci_plex_train.var_names=adata_cut.var_names\n",
    "sci_plex_train.obs['Group']=adata_cut.obs['cov_drug_dose_name']\n",
    "sci_plex_train.obs['dose']=adata_cut.obs['dose']\n",
    "sci_plex_train.obs['SMILES']=adata_cut.obs['SMILES']\n",
    "\n",
    "sci_plex_train.write('datasets/sci_plex_train_random_split_1.h5ad')\n",
    "sci_plex_train_control = adata_control[adata.obs['random_split_1']=='train'].copy()\n",
    "sci_plex_train_control.write('datasets/sci_plex_train_random_split_1_control.h5ad')"
   ]
  },
  {
   "cell_type": "code",
   "execution_count": 27,
   "id": "a7aefd0d-fadc-49e5-919e-04647b1303f9",
   "metadata": {},
   "outputs": [],
   "source": [
    "adata_cut = adata[adata.obs['random_split_2']=='train'].copy()\n",
    "sci_plex_train= anndata.AnnData(adata_cut.X)\n",
    "sci_plex_train.obs_names=adata_cut.obs_names\n",
    "sci_plex_train.var_names=adata_cut.var_names\n",
    "sci_plex_train.obs['Group']=adata_cut.obs['cov_drug_dose_name']\n",
    "sci_plex_train.obs['dose']=adata_cut.obs['dose']\n",
    "sci_plex_train.obs['SMILES']=adata_cut.obs['SMILES']\n",
    "\n",
    "sci_plex_train.write('datasets/sci_plex_train_random_split_2.h5ad')\n",
    "sci_plex_train_control = adata_control[adata.obs['random_split_2']=='train'].copy()\n",
    "sci_plex_train_control.write('datasets/sci_plex_train_random_split_2_control.h5ad')"
   ]
  },
  {
   "cell_type": "code",
   "execution_count": 24,
   "id": "735e4a7f-2a7b-4cba-b4fa-230a083e27c0",
   "metadata": {},
   "outputs": [],
   "source": [
    "adata_cut = adata[adata.obs['random_split_4']=='train'].copy()\n",
    "sci_plex_train= anndata.AnnData(adata_cut.X)\n",
    "sci_plex_train.obs_names=adata_cut.obs_names\n",
    "sci_plex_train.var_names=adata_cut.var_names\n",
    "sci_plex_train.obs['Group']=adata_cut.obs['cov_drug_dose_name']\n",
    "sci_plex_train.obs['dose']=adata_cut.obs['dose']\n",
    "sci_plex_train.obs['SMILES']=adata_cut.obs['SMILES']\n",
    "\n",
    "sci_plex_train.write('datasets/sci_plex_train_random_split_4.h5ad')\n",
    "sci_plex_train_control = adata_control[adata.obs['random_split_4']=='train'].copy()\n",
    "sci_plex_train_control.write('datasets/sci_plex_train_random_split_4_control.h5ad')"
   ]
  },
  {
   "cell_type": "code",
   "execution_count": 23,
   "id": "86c6beeb-2280-4774-a420-59336d46aba2",
   "metadata": {},
   "outputs": [
    {
     "data": {
      "text/plain": [
       "AnnData object with n_obs × n_vars = 170654 × 200\n",
       "    obs: 'Group', 'dose', 'SMILES'"
      ]
     },
     "execution_count": 23,
     "metadata": {},
     "output_type": "execute_result"
    }
   ],
   "source": [
    "sci_plex_train"
   ]
  },
  {
   "cell_type": "code",
   "execution_count": 19,
   "id": "5c3f3adb-1d63-4135-87cf-6aac6982a666",
   "metadata": {},
   "outputs": [],
   "source": [
    "adata_cut = adata[adata.obs['drug_split_0']=='train'].copy()\n",
    "sci_plex_train= anndata.AnnData(adata_cut.X)\n",
    "sci_plex_train.obs_names=adata_cut.obs_names\n",
    "sci_plex_train.var_names=adata_cut.var_names\n",
    "sci_plex_train.obs['Group']=adata_cut.obs['cov_drug_dose_name']\n",
    "sci_plex_train.obs['dose']=adata_cut.obs['dose']\n",
    "sci_plex_train.obs['SMILES']=adata_cut.obs['SMILES']\n",
    "\n",
    "sci_plex_train.write('datasets/sci_plex_train_drug_split_0.h5ad')\n",
    "sci_plex_train_control = adata_control[adata.obs['drug_split_0']=='train'].copy()\n",
    "sci_plex_train_control.write('datasets/sci_plex_train_drug_split_0_control.h5ad')"
   ]
  },
  {
   "cell_type": "code",
   "execution_count": 20,
   "id": "54bb74af-c269-4524-8703-2bfd1b9b3980",
   "metadata": {},
   "outputs": [],
   "source": [
    "adata_cut = adata[adata.obs['drug_split_1']=='train'].copy()\n",
    "sci_plex_train= anndata.AnnData(adata_cut.X)\n",
    "sci_plex_train.obs_names=adata_cut.obs_names\n",
    "sci_plex_train.var_names=adata_cut.var_names\n",
    "sci_plex_train.obs['Group']=adata_cut.obs['cov_drug_dose_name']\n",
    "sci_plex_train.obs['dose']=adata_cut.obs['dose']\n",
    "sci_plex_train.obs['SMILES']=adata_cut.obs['SMILES']\n",
    "\n",
    "sci_plex_train.write('datasets/sci_plex_train_drug_split_1.h5ad')\n",
    "sci_plex_train_control = adata_control[adata.obs['drug_split_1']=='train'].copy()\n",
    "sci_plex_train_control.write('datasets/sci_plex_train_drug_split_1_control.h5ad')"
   ]
  },
  {
   "cell_type": "code",
   "execution_count": 21,
   "id": "617ace93-58c7-4e78-bc07-b8f8529649c1",
   "metadata": {},
   "outputs": [],
   "source": [
    "adata_cut = adata[adata.obs['drug_split_2']=='train'].copy()\n",
    "sci_plex_train= anndata.AnnData(adata_cut.X)\n",
    "sci_plex_train.obs_names=adata_cut.obs_names\n",
    "sci_plex_train.var_names=adata_cut.var_names\n",
    "sci_plex_train.obs['Group']=adata_cut.obs['cov_drug_dose_name']\n",
    "sci_plex_train.obs['dose']=adata_cut.obs['dose']\n",
    "sci_plex_train.obs['SMILES']=adata_cut.obs['SMILES']\n",
    "\n",
    "sci_plex_train.write('datasets/sci_plex_train_drug_split_2.h5ad')\n",
    "sci_plex_train_control = adata_control[adata.obs['drug_split_2']=='train'].copy()\n",
    "sci_plex_train_control.write('datasets/sci_plex_train_drug_split_2_control.h5ad')"
   ]
  },
  {
   "cell_type": "code",
   "execution_count": 22,
   "id": "726949e8-3549-420a-ba0f-aa2f10312445",
   "metadata": {},
   "outputs": [],
   "source": [
    "adata_cut = adata[adata.obs['drug_split_0']=='test'].copy()\n",
    "sci_plex_test= anndata.AnnData(adata_cut.X)\n",
    "sci_plex_test.obs_names=adata_cut.obs_names\n",
    "sci_plex_test.var_names=adata_cut.var_names\n",
    "sci_plex_test.obs['Group']=adata_cut.obs['cov_drug_dose_name']\n",
    "sci_plex_test.obs['dose']=adata_cut.obs['dose']\n",
    "sci_plex_test.obs['SMILES']=adata_cut.obs['SMILES']\n",
    "sci_plex_test.write('datasets/sci_plex_test_drug_split_0.h5ad')\n",
    "sci_plex_test_control = adata_control[adata.obs['drug_split_0']=='test'].copy()\n",
    "sci_plex_test_control.write('datasets/sci_plex_test_drug_split_0_control.h5ad')"
   ]
  },
  {
   "cell_type": "code",
   "execution_count": 23,
   "id": "121af4b7-b37c-4afd-bea0-1fa9163bf819",
   "metadata": {},
   "outputs": [],
   "source": [
    "adata_cut = adata[adata.obs['drug_split_1']=='test'].copy()\n",
    "sci_plex_test= anndata.AnnData(adata_cut.X)\n",
    "sci_plex_test.obs_names=adata_cut.obs_names\n",
    "sci_plex_test.var_names=adata_cut.var_names\n",
    "sci_plex_test.obs['Group']=adata_cut.obs['cov_drug_dose_name']\n",
    "sci_plex_test.obs['dose']=adata_cut.obs['dose']\n",
    "sci_plex_test.obs['SMILES']=adata_cut.obs['SMILES']\n",
    "sci_plex_test.write('datasets/sci_plex_test_drug_split_1.h5ad')\n",
    "sci_plex_test_control = adata_control[adata.obs['drug_split_1']=='test'].copy()\n",
    "sci_plex_test_control.write('datasets/sci_plex_test_drug_split_1_control.h5ad')"
   ]
  },
  {
   "cell_type": "code",
   "execution_count": 24,
   "id": "219e824f-0e29-4ef8-8862-bc47ba9a6b29",
   "metadata": {},
   "outputs": [],
   "source": [
    "adata_cut = adata[adata.obs['drug_split_2']=='test'].copy()\n",
    "sci_plex_test= anndata.AnnData(adata_cut.X)\n",
    "sci_plex_test.obs_names=adata_cut.obs_names\n",
    "sci_plex_test.var_names=adata_cut.var_names\n",
    "sci_plex_test.obs['Group']=adata_cut.obs['cov_drug_dose_name']\n",
    "sci_plex_test.obs['dose']=adata_cut.obs['dose']\n",
    "sci_plex_test.obs['SMILES']=adata_cut.obs['SMILES']\n",
    "sci_plex_test.write('datasets/sci_plex_test_drug_split_2.h5ad')\n",
    "sci_plex_test_control = adata_control[adata.obs['drug_split_2']=='test'].copy()\n",
    "sci_plex_test_control.write('datasets/sci_plex_test_drug_split_2_control.h5ad')"
   ]
  },
  {
   "cell_type": "code",
   "execution_count": 25,
   "id": "a9256db7-b114-41bb-811f-35b167decb26",
   "metadata": {},
   "outputs": [],
   "source": [
    "adata_cut = adata[adata.obs['random_split_0']=='test'].copy()\n",
    "sci_plex_test= anndata.AnnData(adata_cut.X)\n",
    "sci_plex_test.obs_names=adata_cut.obs_names\n",
    "sci_plex_test.var_names=adata_cut.var_names\n",
    "sci_plex_test.obs['Group']=adata_cut.obs['cov_drug_dose_name']\n",
    "sci_plex_test.obs['dose']=adata_cut.obs['dose']\n",
    "sci_plex_test.obs['SMILES']=adata_cut.obs['SMILES']\n",
    "sci_plex_test.write('datasets/sci_plex_test_random_split_0.h5ad')\n",
    "sci_plex_test_control = adata_control[adata.obs['random_split_0']=='test'].copy()\n",
    "sci_plex_test_control.write('datasets/sci_plex_test_random_split_0_control.h5ad')"
   ]
  },
  {
   "cell_type": "code",
   "execution_count": 26,
   "id": "28d9ace9-338e-4105-a959-fccd28df2e39",
   "metadata": {},
   "outputs": [],
   "source": [
    "adata_cut = adata[adata.obs['random_split_2']=='test'].copy()\n",
    "sci_plex_test= anndata.AnnData(adata_cut.X)\n",
    "sci_plex_test.obs_names=adata_cut.obs_names\n",
    "sci_plex_test.var_names=adata_cut.var_names\n",
    "sci_plex_test.obs['Group']=adata_cut.obs['cov_drug_dose_name']\n",
    "sci_plex_test.obs['dose']=adata_cut.obs['dose']\n",
    "sci_plex_test.obs['SMILES']=adata_cut.obs['SMILES']\n",
    "sci_plex_test.write('datasets/sci_plex_test_random_split_2.h5ad')\n",
    "sci_plex_test_control = adata_control[adata.obs['random_split_2']=='test'].copy()\n",
    "sci_plex_test_control.write('datasets/sci_plex_test_random_split_2_control.h5ad')"
   ]
  },
  {
   "cell_type": "code",
   "execution_count": 25,
   "id": "0a3a84a1-45e1-4759-b7f0-b5fa5ac13ad1",
   "metadata": {},
   "outputs": [],
   "source": [
    "adata_cut = adata[adata.obs['random_split_4']=='test'].copy()\n",
    "sci_plex_test= anndata.AnnData(adata_cut.X)\n",
    "sci_plex_test.obs_names=adata_cut.obs_names\n",
    "sci_plex_test.var_names=adata_cut.var_names\n",
    "sci_plex_test.obs['Group']=adata_cut.obs['cov_drug_dose_name']\n",
    "sci_plex_test.obs['dose']=adata_cut.obs['dose']\n",
    "sci_plex_test.obs['SMILES']=adata_cut.obs['SMILES']\n",
    "sci_plex_test.write('datasets/sci_plex_test_random_split_4.h5ad')\n",
    "sci_plex_test_control = adata_control[adata.obs['random_split_4']=='test'].copy()\n",
    "sci_plex_test_control.write('datasets/sci_plex_test_random_split_4_control.h5ad')"
   ]
  },
  {
   "cell_type": "code",
   "execution_count": 26,
   "id": "defe4ce4-0979-4f44-8582-e5a1c79d7dd2",
   "metadata": {},
   "outputs": [],
   "source": [
    "adata_cut = adata[adata.obs['random_split_1']=='test'].copy()\n",
    "sci_plex_test= anndata.AnnData(adata_cut.X)\n",
    "sci_plex_test.obs_names=adata_cut.obs_names\n",
    "sci_plex_test.var_names=adata_cut.var_names\n",
    "sci_plex_test.obs['Group']=adata_cut.obs['cov_drug_dose_name']\n",
    "sci_plex_test.obs['dose']=adata_cut.obs['dose']\n",
    "sci_plex_test.obs['SMILES']=adata_cut.obs['SMILES']\n",
    "sci_plex_test.write('datasets/sci_plex_test_random_split_1.h5ad')\n",
    "sci_plex_test_control = adata_control[adata.obs['random_split_1']=='test'].copy()\n",
    "sci_plex_test_control.write('datasets/sci_plex_test_random_split_1_control.h5ad')"
   ]
  },
  {
   "cell_type": "code",
   "execution_count": null,
   "id": "c3c28681-18e2-4a2f-89cd-288b5256c83f",
   "metadata": {},
   "outputs": [],
   "source": [
    "adata_cut = adata[adata.obs['random_split_4']=='test'].copy()\n",
    "sci_plex_test= anndata.AnnData(adata_cut.X)\n",
    "sci_plex_test.obs_names=adata_cut.obs_names\n",
    "sci_plex_test.var_names=adata_cut.var_names\n",
    "sci_plex_test.obs['Group']=adata_cut.obs['cov_drug_dose_name']\n",
    "sci_plex_test.obs['dose']=adata_cut.obs['dose']\n",
    "sci_plex_test.obs['SMILES']=adata_cut.obs['SMILES']\n",
    "sci_plex_test = sci_plex_test[:5,:]\n",
    "sci_plex_test.write('datasets/sci_plex_test_random_split_4.h5ad')\n",
    "sci_plex_test_control = adata_control[adata.obs['random_split_4']=='test'].copy()\n",
    "sci_plex_test_control = sci_plex_test_control[:5,:]\n",
    "sci_plex_test_control.write('datasets/sci_plex_test_random_split_4_control.h5ad')"
   ]
  }
 ],
 "metadata": {
  "kernelspec": {
   "display_name": "scvi_v1",
   "language": "python",
   "name": "myenv"
  },
  "language_info": {
   "codemirror_mode": {
    "name": "ipython",
    "version": 3
   },
   "file_extension": ".py",
   "mimetype": "text/x-python",
   "name": "python",
   "nbconvert_exporter": "python",
   "pygments_lexer": "ipython3",
   "version": "3.9.18"
  }
 },
 "nbformat": 4,
 "nbformat_minor": 5
}
