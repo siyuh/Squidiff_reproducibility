{
 "cells": [
  {
   "cell_type": "code",
   "execution_count": 19,
   "id": "1fe54013-25ce-4ec4-b95b-505b8564ddbb",
   "metadata": {},
   "outputs": [
    {
     "name": "stdout",
     "output_type": "stream",
     "text": [
      "The autoreload extension is already loaded. To reload it, use:\n",
      "  %reload_ext autoreload\n"
     ]
    }
   ],
   "source": [
    "import sys\n",
    "import os\n",
    "\n",
    "import pandas as pd\n",
    "import scanpy as sc\n",
    "import numpy as np\n",
    "import warnings\n",
    "\n",
    "import torch\n",
    "import torch.nn.functional as F\n",
    "import torch.nn as nn\n",
    "\n",
    "from torch.utils.data import DataLoader, TensorDataset\n",
    "from torch.nn import DataParallel\n",
    "import matplotlib.pyplot as plt\n",
    "from matplotlib.pyplot import rc_context\n",
    "import anndata\n",
    "import seaborn as sns\n",
    "import matplotlib.font_manager\n",
    "from matplotlib import rcParams\n",
    "\n",
    "font_list = []\n",
    "fpaths = matplotlib.font_manager.findSystemFonts()\n",
    "for i in fpaths:\n",
    "    try:\n",
    "        f = matplotlib.font_manager.get_font(i)\n",
    "        font_list.append(f.family_name)\n",
    "    except RuntimeError:\n",
    "        pass\n",
    "\n",
    "font_list = set(font_list)\n",
    "plot_font = 'Helvetica' if 'Helvetica' in font_list else 'FreeSans'\n",
    "rcParams['font.family'] = plot_font\n",
    "rcParams.update({'font.size': 10})\n",
    "rcParams.update({'figure.dpi': 300})\n",
    "rcParams.update({'figure.figsize': (3,3)})\n",
    "rcParams.update({'savefig.dpi': 500})\n",
    "warnings.filterwarnings('ignore')\n",
    "\n",
    "%load_ext autoreload\n",
    "%autoreload 2\n",
    "import os\n",
    "os.environ[\"CUDA_LAUNCH_BLOCKING\"] = \"1\""
   ]
  },
  {
   "cell_type": "code",
   "execution_count": 20,
   "id": "86c10859-eee5-4646-883a-66587292c603",
   "metadata": {},
   "outputs": [],
   "source": [
    "data_dir = 'datasets'\n",
    "train_adata = sc.read_h5ad(os.path.join(data_dir,'diff_train_raw.h5ad'))\n",
    "val_adata   = sc.read_h5ad(os.path.join(data_dir,'diff_val_raw.h5ad'))\n",
    "test_adata  = sc.read_h5ad(os.path.join(data_dir,'diff_test_raw.h5ad'))\n"
   ]
  },
  {
   "cell_type": "code",
   "execution_count": 21,
   "id": "0c366f0a-11ff-46c9-946a-9d1c01440b4c",
   "metadata": {},
   "outputs": [
    {
     "data": {
      "text/plain": [
       "AnnData object with n_obs × n_vars = 4800 × 203\n",
       "    obs: 'assigned', 'auxDir', 'cell_filter', 'cell_name', 'compatible_fragment_ratio', 'day', 'donor', 'expected_format', 'experiment', 'frag_dist_length', 'gc_bias_correct', 'is_cell_control', 'is_cell_control_bulk', 'is_cell_control_control', 'library_types', 'libType', 'log10_total_counts', 'log10_total_counts_endogenous', 'log10_total_counts_ERCC', 'log10_total_counts_feature_control', 'log10_total_counts_MT', 'log10_total_features', 'log10_total_features_endogenous', 'log10_total_features_ERCC', 'log10_total_features_feature_control', 'log10_total_features_MT', 'mapping_type', 'mates1', 'mates2', 'n_alt_reads', 'n_total_reads', 'num_assigned_fragments', 'num_bias_bins', 'num_bootstraps', 'num_compatible_fragments', 'num_consistent_mappings', 'num_inconsistent_mappings', 'num_libraries', 'num_mapped', 'num_processed', 'num_targets', 'nvars_used', 'pct_counts_endogenous', 'pct_counts_ERCC', 'pct_counts_feature_control', 'pct_counts_MT', 'pct_counts_top_100_features', 'pct_counts_top_100_features_endogenous', 'pct_counts_top_100_features_feature_control', 'pct_counts_top_200_features', 'pct_counts_top_200_features_endogenous', 'pct_counts_top_50_features', 'pct_counts_top_50_features_endogenous', 'pct_counts_top_50_features_ERCC', 'pct_counts_top_50_features_feature_control', 'pct_counts_top_500_features', 'pct_counts_top_500_features_endogenous', 'percent_mapped', 'plate_id', 'plate_well_id', 'post_prob', 'public_name', 'read_files', 'salmon_version', 'samp_type', 'sample_id', 'seq_bias_correct', 'size_factor', 'start_time', 'strand_mapping_bias', 'total_counts', 'total_counts_endogenous', 'total_counts_ERCC', 'total_counts_feature_control', 'total_counts_MT', 'total_features', 'total_features_endogenous', 'total_features_ERCC', 'total_features_feature_control', 'total_features_MT', 'used_in_expt', 'well_id', 'well_type', 'donor_short_id', 'donor_long_id', 'pseudo', 'PC1_top100hvgs', 'PC1_top200hvgs', 'PC1_top500hvgs', 'PC1_top1000hvgs', 'PC1_top2000hvgs', 'princ_curve', 'princ_curve_scaled01'\n",
       "    var: 'highly_variable', 'means', 'dispersions', 'dispersions_norm'\n",
       "    uns: 'hvg'\n",
       "    layers: 'counts'"
      ]
     },
     "execution_count": 21,
     "metadata": {},
     "output_type": "execute_result"
    }
   ],
   "source": [
    "train_adata"
   ]
  },
  {
   "cell_type": "code",
   "execution_count": 22,
   "id": "8719eb7e-5a91-4fc3-aa3c-6339f6bc4808",
   "metadata": {},
   "outputs": [],
   "source": [
    "train_adata.obs['train_data'] = 1\n",
    "test_adata.obs['train_data'] = 0\n",
    "train_adata = train_adata[train_adata.obs['day'].isin(['day0','day3'])]\n",
    "\n",
    "combined_adata = sc.concat([train_adata,test_adata])\n",
    "sc.tl.pca(combined_adata, svd_solver='arpack')\n",
    "sc.pp.neighbors(combined_adata, n_neighbors=30, n_pcs=50)\n",
    "sc.tl.umap(combined_adata,min_dist=0.6)\n",
    "\n",
    "train_adata.obs = train_adata.obs[['day']]\n",
    "\n",
    "train_adata.obs['day'] = train_adata.obs['day'].map({\n",
    "'day0':0,\n",
    "'day1':1,\n",
    "'day2':2,\n",
    "'day3':3                                    \n",
    "                             })\n",
    "\n",
    "test_adata.obs = test_adata.obs[['day']]\n",
    "\n",
    "test_adata.obs['day'] = test_adata.obs['day'].map(\n",
    "    {'day0':0,\n",
    "     'day1':1,\n",
    "     'day2':2,\n",
    "     'day3':3,\n",
    "})\n",
    "\n",
    "val_adata.obs  = val_adata.obs[['day']]\n",
    "val_adata.obs['day'] = val_adata.obs['day'].map(\n",
    "    {'day0':0,\n",
    "     'day1':1,\n",
    "     'day2':2,\n",
    "     'day3':3,\n",
    "})\n",
    "\n"
   ]
  },
  {
   "cell_type": "code",
   "execution_count": 23,
   "id": "9111881a-5243-4ccf-af13-7ea80b32525f",
   "metadata": {},
   "outputs": [
    {
     "data": {
      "text/plain": [
       "AnnData object with n_obs × n_vars = 2400 × 203\n",
       "    obs: 'day'\n",
       "    var: 'highly_variable', 'means', 'dispersions', 'dispersions_norm'\n",
       "    uns: 'hvg'\n",
       "    layers: 'counts'"
      ]
     },
     "execution_count": 23,
     "metadata": {},
     "output_type": "execute_result"
    }
   ],
   "source": [
    "train_adata"
   ]
  },
  {
   "cell_type": "code",
   "execution_count": 24,
   "id": "11639dac-ee58-4f1d-9861-2110fde80f01",
   "metadata": {},
   "outputs": [],
   "source": [
    "train_adata_ = anndata.AnnData(train_adata.X)\n",
    "train_adata_.var_names = train_adata.var_names\n",
    "train_adata_.obs_names = train_adata.obs_names\n",
    "train_adata_.obs['Group'] = train_adata.obs['day']\n",
    "train_adata_.write('datasets/diff_train.h5ad')"
   ]
  },
  {
   "cell_type": "code",
   "execution_count": 25,
   "id": "95e75e72-80dd-48f8-b18d-3b503bf98d89",
   "metadata": {},
   "outputs": [],
   "source": [
    "test_adata_ = anndata.AnnData(test_adata.X)\n",
    "test_adata_.var_names = test_adata.var_names\n",
    "test_adata_.obs_names = test_adata.obs_names\n",
    "test_adata_.obs['Group'] = test_adata.obs['day']\n",
    "test_adata_.write('datasets/diff_test.h5ad')"
   ]
  },
  {
   "cell_type": "code",
   "execution_count": null,
   "id": "9208c02a-af89-4e8a-8edf-b11fbf174c30",
   "metadata": {},
   "outputs": [],
   "source": []
  }
 ],
 "metadata": {
  "kernelspec": {
   "display_name": "scvi_v1",
   "language": "python",
   "name": "myenv"
  },
  "language_info": {
   "codemirror_mode": {
    "name": "ipython",
    "version": 3
   },
   "file_extension": ".py",
   "mimetype": "text/x-python",
   "name": "python",
   "nbconvert_exporter": "python",
   "pygments_lexer": "ipython3",
   "version": "3.9.18"
  }
 },
 "nbformat": 4,
 "nbformat_minor": 5
}
